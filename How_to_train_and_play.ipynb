{
 "cells": [
  {
   "cell_type": "markdown",
   "id": "ce856bf6",
   "metadata": {},
   "source": [
    "# Low level"
   ]
  },
  {
   "cell_type": "markdown",
   "id": "9c96ccd9",
   "metadata": {},
   "source": [
    "### Decentral"
   ]
  },
  {
   "cell_type": "markdown",
   "id": "d235ad5b",
   "metadata": {},
   "source": [
    "Train\n",
    "- python scripts/rsl_rl/train_IPPO.py --task decentral\n",
    "\n",
    "Play\n",
    "- python scripts/rsl_rl/play_IPPO.py --task decentral --load_run floder_name(inside logs/rsl_rl/decentral) --checkpoint model_xxx --num_envs 1\n",
    "\n",
    "Change config at \"source/HDDRL/HDDRL/tasks/decentralized/agents/rsl_rl_ppo_cfg.py\""
   ]
  },
  {
   "cell_type": "markdown",
   "id": "60db8e03",
   "metadata": {},
   "source": [
    "### Central"
   ]
  },
  {
   "cell_type": "markdown",
   "id": "7e232be4",
   "metadata": {},
   "source": [
    "Train\n",
    "- python scripts/rsl_rl/train.py --task central\n",
    "\n",
    "Play\n",
    "- python scripts/rsl_rl/play.py --task central --load_run floder_name(inside logs/rsl_rl/anymal_d_rough) --checkpoint model_xxx --num_envs 1\n",
    "\n",
    "Change config at \"source/HDDRL/HDDRL/tasks/centralized/agents/rsl_rl_ppo_cfg.py\""
   ]
  },
  {
   "cell_type": "markdown",
   "id": "c5af736d",
   "metadata": {},
   "source": [
    "# High level"
   ]
  },
  {
   "cell_type": "markdown",
   "id": "ae3b2bf9",
   "metadata": {},
   "source": [
    "### Decentral"
   ]
  },
  {
   "cell_type": "markdown",
   "id": "8b3e1e4d",
   "metadata": {},
   "source": [
    "Change low level decentral model at file \"scripts/rsl_rl/train_high_decen.py\" variable \"model_name\"\n",
    "\n",
    "Change policy_low config and algorithm_low config to match config of low level decentral model at \"source/HDDRL/HDDRL/tasks/highlevel/agents/rsl_rl_ppo_cfg.py\" class DecenNavigationEnvPPORunnerCfg\n",
    "\n",
    "Change source/HDDRL/HDDRL/tasks/highlevel/__init__.py to"
   ]
  },
  {
   "cell_type": "code",
   "execution_count": null,
   "id": "dc8d1818",
   "metadata": {},
   "outputs": [],
   "source": [
    "\"rsl_rl_cfg_entry_point\": f\"{agents.__name__}.rsl_rl_ppo_cfg:DecenNavigationEnvPPORunnerCfg\",\n",
    "# \"rsl_rl_cfg_entry_point\": f\"{agents.__name__}.rsl_rl_ppo_cfg:CenNavigationEnvPPORunnerCfg\","
   ]
  },
  {
   "cell_type": "markdown",
   "id": "5e492b00",
   "metadata": {},
   "source": [
    "Train\n",
    "- python scripts/rsl_rl/train_high_decen.py --task highlevel\n",
    "\n",
    "Play\n",
    "- python scripts/rsl_rl/play_high_decen.py --task highlevel --load_run floder_name(inside logs/rsl_rl/Navigate_decen) --checkpoint model_xxx --num_envs 1\n",
    "\n",
    "Change config at \"source/HDDRL/HDDRL/tasks/highlevel/agents/rsl_rl_ppo_cfg.py\" class DecenNavigationEnvPPORunnerCfg"
   ]
  },
  {
   "cell_type": "markdown",
   "id": "0c535b67",
   "metadata": {},
   "source": [
    "### Central"
   ]
  },
  {
   "cell_type": "markdown",
   "id": "066ff157",
   "metadata": {},
   "source": [
    "Change low level decentral model at file \"scripts/rsl_rl/train_high_cen.py\" variable \"model_name\"\n",
    "\n",
    "Change policy_low config and algorithm_low config to match config of low level central model at \"source/HDDRL/HDDRL/tasks/highlevel/agents/rsl_rl_ppo_cfg.py\" class CenNavigationEnvPPORunnerCfg\n",
    "\n",
    "Change source/HDDRL/HDDRL/tasks/highlevel/__init__.py to"
   ]
  },
  {
   "cell_type": "code",
   "execution_count": null,
   "id": "18156c29",
   "metadata": {},
   "outputs": [],
   "source": [
    "# \"rsl_rl_cfg_entry_point\": f\"{agents.__name__}.rsl_rl_ppo_cfg:DecenNavigationEnvPPORunnerCfg\",\n",
    "\"rsl_rl_cfg_entry_point\": f\"{agents.__name__}.rsl_rl_ppo_cfg:CenNavigationEnvPPORunnerCfg\","
   ]
  },
  {
   "cell_type": "markdown",
   "id": "0c3d65d5",
   "metadata": {},
   "source": [
    "Train\n",
    "- python scripts/rsl_rl/train_high_cen.py --task highlevel\n",
    "\n",
    "Play\n",
    "- python scripts/rsl_rl/play_high_cen.py --task highlevel --load_run floder_name(inside logs/rsl_rl/Navigate_cen) --checkpoint model_xxx --num_envs 1\n",
    "\n",
    "Change config at \"source/HDDRL/HDDRL/tasks/highlevel/agents/rsl_rl_ppo_cfg.py\" class CenNavigationEnvPPORunnerCfg"
   ]
  },
  {
   "cell_type": "markdown",
   "id": "2d749822",
   "metadata": {},
   "source": [
    "# Navigation"
   ]
  },
  {
   "cell_type": "markdown",
   "id": "bf3ba3bc",
   "metadata": {},
   "source": [
    "Train\n",
    "- python scripts/rsl_rl/train.py --task navigate\n",
    "\n",
    "Play\n",
    "- python scripts/rsl_rl/play.py --task navigate --load_run floder_name(inside logs/rsl_rl/Navigate) --checkpoint model_xxx --num_envs 1\n",
    "\n",
    "Change config at \"source/HDDRL/HDDRL/tasks/Nevigate/agents/rsl_rl_ppo_cfg.py\""
   ]
  }
 ],
 "metadata": {
  "language_info": {
   "name": "python"
  }
 },
 "nbformat": 4,
 "nbformat_minor": 5
}
